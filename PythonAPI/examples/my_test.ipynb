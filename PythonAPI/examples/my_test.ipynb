{
 "cells": [
  {
   "cell_type": "markdown",
   "metadata": {},
   "source": [
    "# First step with CARLA"
   ]
  },
  {
   "cell_type": "markdown",
   "metadata": {},
   "source": [
    "## Loading a map"
   ]
  },
  {
   "cell_type": "code",
   "execution_count": 1,
   "metadata": {},
   "outputs": [],
   "source": [
    "import carla \n",
    "import random \n",
    "\n",
    "client = carla.Client('172.30.1.101', 2000) \n",
    "world = client.get_world()  "
   ]
  },
  {
   "cell_type": "code",
   "execution_count": 2,
   "metadata": {},
   "outputs": [
    {
     "data": {
      "text/plain": [
       "<carla.libcarla.World at 0x7f2391735ac0>"
      ]
     },
     "execution_count": 2,
     "metadata": {},
     "output_type": "execute_result"
    }
   ],
   "source": [
    "client.load_world('Town01')"
   ]
  },
  {
   "cell_type": "markdown",
   "metadata": {},
   "source": [
    "## Adding NPCs"
   ]
  },
  {
   "cell_type": "code",
   "execution_count": 3,
   "metadata": {},
   "outputs": [],
   "source": [
    "vehicle_blueprints = world.get_blueprint_library().filter('*vehicle*') "
   ]
  },
  {
   "cell_type": "code",
   "execution_count": 4,
   "metadata": {},
   "outputs": [],
   "source": [
    "spawn_points = world.get_map().get_spawn_points() \n",
    "\n",
    "for i in range(0, 50): \n",
    "    world.try_spawn_actor(random.choice(vehicle_blueprints), random.choice(spawn_points))"
   ]
  },
  {
   "cell_type": "code",
   "execution_count": 7,
   "metadata": {},
   "outputs": [],
   "source": [
    "ego_vehicle = world.spawn_actor(random.choice(vehicle_blueprints), random.choice(spawn_points))"
   ]
  },
  {
   "cell_type": "markdown",
   "metadata": {},
   "source": [
    "## Add sensors"
   ]
  },
  {
   "cell_type": "code",
   "execution_count": 8,
   "metadata": {},
   "outputs": [],
   "source": [
    "camera_init_trans = carla.Transform(carla.Location(z=1.5))  \n",
    "\n",
    "camera_bp = world.get_blueprint_library().find('sensor.camera.rgb') \n",
    "\n",
    "camera = world.spawn_actor(camera_bp, camera_init_trans, attach_to=ego_vehicle) "
   ]
  },
  {
   "cell_type": "code",
   "execution_count": 9,
   "metadata": {},
   "outputs": [],
   "source": [
    "camera.listen(lambda image: image.save_to_disk('out/%06d.png'%image.frame)) "
   ]
  },
  {
   "cell_type": "markdown",
   "metadata": {},
   "source": [
    "## Animate vehicles"
   ]
  },
  {
   "cell_type": "code",
   "execution_count": 10,
   "metadata": {},
   "outputs": [],
   "source": [
    "for vehicle in world.get_actors().filter('*vehicle*'): \n",
    "    vehicle.set_autopilot(True) "
   ]
  },
  {
   "cell_type": "markdown",
   "metadata": {},
   "source": [
    "## Assign a vehicle as the Ego Vehicle"
   ]
  },
  {
   "cell_type": "code",
   "execution_count": 11,
   "metadata": {},
   "outputs": [],
   "source": [
    "ego_bp = world.get_blueprint_library().find('vehicle.lincoln.mkz_2020') \n",
    "ego_bp.set_attribute('role_name', 'hero') \n",
    "ego_vehicle = world.spawn_actor(ego_bp, random.choice(spawn_points)) "
   ]
  },
  {
   "cell_type": "markdown",
   "metadata": {},
   "source": [
    "## Choose your map"
   ]
  },
  {
   "cell_type": "code",
   "execution_count": 12,
   "metadata": {},
   "outputs": [
    {
     "data": {
      "text/plain": [
       "['/Game/Carla/Maps/Town02',\n",
       " '/Game/Carla/Maps/Town10HD',\n",
       " '/Game/Carla/Maps/Town04_Opt',\n",
       " '/Game/Carla/Maps/Town03',\n",
       " '/Game/Carla/Maps/Town10HD_Opt',\n",
       " '/Game/Carla/Maps/Town01',\n",
       " '/Game/Carla/Maps/Town01_Opt',\n",
       " '/Game/Carla/Maps/Town05_Opt',\n",
       " '/Game/Carla/Maps/Town02_Opt',\n",
       " '/Game/Carla/Maps/Town05',\n",
       " '/Game/Carla/Maps/Town03_Opt',\n",
       " '/Game/Carla/Maps/Town04']"
      ]
     },
     "execution_count": 12,
     "metadata": {},
     "output_type": "execute_result"
    }
   ],
   "source": [
    "client.get_available_maps()"
   ]
  },
  {
   "cell_type": "code",
   "execution_count": 13,
   "metadata": {},
   "outputs": [
    {
     "data": {
      "text/plain": [
       "<carla.libcarla.World at 0x7f2391c6f4a0>"
      ]
     },
     "execution_count": 13,
     "metadata": {},
     "output_type": "execute_result"
    }
   ],
   "source": [
    "client.load_world('Town03_Opt')"
   ]
  },
  {
   "cell_type": "markdown",
   "metadata": {},
   "source": [
    "## Choose your vehicles"
   ]
  },
  {
   "cell_type": "code",
   "execution_count": 14,
   "metadata": {},
   "outputs": [
    {
     "name": "stdout",
     "output_type": "stream",
     "text": [
      "vehicle.audi.a2\n",
      "vehicle.chevrolet.impala\n",
      "vehicle.citroen.c3\n",
      "vehicle.micro.microlino\n",
      "vehicle.dodge.charger_police\n",
      "vehicle.audi.tt\n",
      "vehicle.jeep.wrangler_rubicon\n",
      "vehicle.mercedes.coupe\n",
      "vehicle.mercedes.coupe_2020\n",
      "vehicle.harley-davidson.low_rider\n",
      "vehicle.dodge.charger_2020\n",
      "vehicle.ford.ambulance\n",
      "vehicle.lincoln.mkz_2020\n",
      "vehicle.mini.cooper_s_2021\n",
      "vehicle.toyota.prius\n",
      "vehicle.ford.crown\n",
      "vehicle.carlamotors.carlacola\n",
      "vehicle.vespa.zx125\n",
      "vehicle.nissan.patrol_2021\n",
      "vehicle.dodge.charger_police_2020\n",
      "vehicle.mercedes.sprinter\n",
      "vehicle.audi.etron\n",
      "vehicle.seat.leon\n",
      "vehicle.volkswagen.t2_2021\n",
      "vehicle.tesla.cybertruck\n",
      "vehicle.lincoln.mkz_2017\n",
      "vehicle.ford.mustang\n",
      "vehicle.carlamotors.firetruck\n",
      "vehicle.volkswagen.t2\n",
      "vehicle.tesla.model3\n",
      "vehicle.diamondback.century\n",
      "vehicle.gazelle.omafiets\n",
      "vehicle.bmw.grandtourer\n",
      "vehicle.bh.crossbike\n",
      "vehicle.kawasaki.ninja\n",
      "vehicle.yamaha.yzf\n",
      "vehicle.nissan.patrol\n",
      "vehicle.nissan.micra\n",
      "vehicle.mini.cooper_s\n"
     ]
    }
   ],
   "source": [
    "for bp in world.get_blueprint_library().filter('vehicle'):\n",
    "    print(bp.id)"
   ]
  },
  {
   "cell_type": "code",
   "execution_count": 15,
   "metadata": {},
   "outputs": [],
   "source": [
    "# spawn a vehicle\n",
    "spawn_points = world.get_map().get_spawn_points() \n",
    "\n",
    "vehicle_bp = world.get_blueprint_library().find('vehicle.audi.tt')\n",
    "# vehicle_transform = carla.Transform(random.choice(spawn_points))\n",
    "vehicle = world.spawn_actor(vehicle_bp, spawn_points[3])"
   ]
  },
  {
   "cell_type": "code",
   "execution_count": 16,
   "metadata": {},
   "outputs": [
    {
     "name": "stdout",
     "output_type": "stream",
     "text": [
      "Transform(Location(x=227.257401, y=-1.585898, z=0.275307), Rotation(pitch=0.000000, yaw=-179.144211, roll=0.000000))\n"
     ]
    },
    {
     "ename": "",
     "evalue": "",
     "output_type": "error",
     "traceback": [
      "\u001b[1;31mThe Kernel crashed while executing code in the current cell or a previous cell. \n",
      "\u001b[1;31mPlease review the code in the cell(s) to identify a possible cause of the failure. \n",
      "\u001b[1;31mClick <a href='https://aka.ms/vscodeJupyterKernelCrash'>here</a> for more info. \n",
      "\u001b[1;31mView Jupyter <a href='command:jupyter.viewOutput'>log</a> for further details."
     ]
    }
   ],
   "source": [
    "print(spawn_points[0])"
   ]
  },
  {
   "cell_type": "code",
   "execution_count": null,
   "metadata": {},
   "outputs": [],
   "source": []
  }
 ],
 "metadata": {
  "kernelspec": {
   "display_name": "Python 3",
   "language": "python",
   "name": "python3"
  },
  "language_info": {
   "codemirror_mode": {
    "name": "ipython",
    "version": 3
   },
   "file_extension": ".py",
   "mimetype": "text/x-python",
   "name": "python",
   "nbconvert_exporter": "python",
   "pygments_lexer": "ipython3",
   "version": "3.8.19"
  }
 },
 "nbformat": 4,
 "nbformat_minor": 2
}
