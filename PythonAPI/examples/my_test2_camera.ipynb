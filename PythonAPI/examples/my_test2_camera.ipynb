{
 "cells": [
  {
   "cell_type": "markdown",
   "metadata": {},
   "source": [
    "## Sensor Tutorial\n",
    "https://www.youtube.com/watch?v=om8klsBj4rc&t=1165s"
   ]
  },
  {
   "cell_type": "code",
   "execution_count": 1,
   "metadata": {},
   "outputs": [],
   "source": [
    "import carla \n",
    "import math \n",
    "import random \n",
    "import time  \n",
    "import numpy as np \n",
    "import cv2  \n",
    "\n",
    "client = carla.Client('172.30.1.101', 2000) \n",
    "world = client.get_world() \n",
    "\n",
    "bp_lib = world.get_blueprint_library() \n",
    "spawn_points = world.get_map().get_spawn_points() "
   ]
  },
  {
   "cell_type": "code",
   "execution_count": 2,
   "metadata": {},
   "outputs": [],
   "source": [
    "vehicle_bp = bp_lib.find('vehicle.lincoln.mkz_2020')\n",
    "vehicle = world.try_spawn_actor(vehicle_bp, random.choice(spawn_points)) \n",
    "\n",
    "spectator = world.get_spectator() \n",
    "transform = carla.Transform(vehicle.get_transform().transform(carla.Location(x=-4,z=2.5)), vehicle.get_transform().rotation) \n",
    "spectator.set_transform(transform) "
   ]
  },
  {
   "cell_type": "code",
   "execution_count": 3,
   "metadata": {},
   "outputs": [],
   "source": [
    "camera_bp = bp_lib.find('sensor.camera.rgb') \n",
    "camera_init_trans = carla.Transform(carla.Location(x=0.6, z=1.6))\n",
    "camera = world.spawn_actor(camera_bp, camera_init_trans, attach_to=vehicle) \n",
    "\n",
    "camera.listen(lambda image: image.save_to_disk('out/%06d.png' % image.frame)) "
   ]
  },
  {
   "cell_type": "code",
   "execution_count": 4,
   "metadata": {},
   "outputs": [],
   "source": [
    "camera.stop() "
   ]
  },
  {
   "cell_type": "code",
   "execution_count": 5,
   "metadata": {},
   "outputs": [],
   "source": [
    "import os \n",
    "import cv2 \n",
    "import numpy as np \n",
    "import pandas as pd \n",
    "import matplotlib.pyplot as plt \n",
    "\n",
    "from tools.my_detect import Detect \n",
    "from lanedet.utils.config import Config\n"
   ]
  },
  {
   "cell_type": "code",
   "execution_count": 6,
   "metadata": {},
   "outputs": [
    {
     "data": {
      "text/plain": [
       "True"
      ]
     },
     "execution_count": 6,
     "metadata": {},
     "output_type": "execute_result"
    }
   ],
   "source": [
    "import torch \n",
    "torch.cuda.is_available() "
   ]
  },
  {
   "cell_type": "code",
   "execution_count": 7,
   "metadata": {},
   "outputs": [],
   "source": [
    "# carla config \n",
    "config_file = '/root/works/lanedet/demo/configs/carla_scnn_tusimple.py'\n",
    "\n",
    "cfg = Config.fromfile(config_file)\n",
    "cfg.show = False \n",
    "cfg.savedir = '/root/works/lanedet'\n",
    "cfg.load_from = '/root/works/lanedet/demo/checkpoints/scnn_r18_tusimple.pth'\n",
    "carla_detect = Detect(cfg)"
   ]
  },
  {
   "cell_type": "code",
   "execution_count": 8,
   "metadata": {},
   "outputs": [],
   "source": [
    "def camera_callback(image, data_dict): \n",
    "    # print(type(image))  ->  <class 'carla.libcarla.Image'>\n",
    "    data_dict['image'] = np.reshape(np.copy(image.raw_data), (image.height, image.width, 4)) \n"
   ]
  },
  {
   "cell_type": "code",
   "execution_count": 9,
   "metadata": {},
   "outputs": [],
   "source": [
    "def camera_callback(image, data_dict): \n",
    "    img = np.reshape(np.copy(image.raw_data), (image.height, image.width, 4)) \n",
    "    img = img[:, :, :3]\n",
    "\n",
    "    result_img = carla_detect.vis_inference(img, cfg)  \n",
    "    data_dict['image'] = result_img \n",
    "    # data_dict['image'] = np.dstack(result_img, np.zeros((image.height, image.width), 1), dtyp=result_img.dtype) "
   ]
  },
  {
   "cell_type": "code",
   "execution_count": 10,
   "metadata": {},
   "outputs": [],
   "source": [
    "image_w = camera_bp.get_attribute(\"image_size_x\").as_int() \n",
    "image_h = camera_bp.get_attribute(\"image_size_y\").as_int() \n",
    "\n",
    "camera_data = {\"image\": np.zeros((image_w, image_h, 3))} \n",
    "\n",
    "camera.listen(lambda image: camera_callback(image, camera_data)) "
   ]
  },
  {
   "cell_type": "code",
   "execution_count": 11,
   "metadata": {},
   "outputs": [],
   "source": [
    "vehicle.set_autopilot(True)"
   ]
  },
  {
   "cell_type": "code",
   "execution_count": 12,
   "metadata": {},
   "outputs": [],
   "source": [
    "cv2.namedWindow('RGB Camera', cv2.WINDOW_AUTOSIZE) \n",
    "cv2.imshow('RGB Camera', camera_data['image']) \n",
    "cv2.waitKey(1) \n",
    "\n",
    "while True: \n",
    "    cv2.imshow('RGB Camera', camera_data['image']) \n",
    "\n",
    "    if cv2.waitKey(1) == ord('q'): \n",
    "        break\n",
    "\n",
    "cv2.destroyAllWindows() "
   ]
  },
  {
   "cell_type": "markdown",
   "metadata": {},
   "source": [
    "---"
   ]
  },
  {
   "cell_type": "code",
   "execution_count": 9,
   "metadata": {},
   "outputs": [],
   "source": [
    "import carla     \n",
    "import math \n",
    "import random \n",
    "import time \n",
    "import numpy as np \n",
    "import cv2 \n",
    "\n",
    "client.reload_world() \n",
    "\n",
    "client = carla.Client('localhost', 2000) \n",
    "world = client.get_world() \n",
    "\n",
    "bp_lib = world.get_blueprint_library() \n",
    "spawn_points = world.get_map().get_spawn_points() "
   ]
  },
  {
   "cell_type": "code",
   "execution_count": 10,
   "metadata": {},
   "outputs": [
    {
     "name": "stdout",
     "output_type": "stream",
     "text": [
      "Transform(Location(x=79.055290, y=69.822777, z=0.600000), Rotation(pitch=0.000000, yaw=0.073273, roll=0.000000))\n",
      "Location(x=1.000000, y=1.000000, z=1.000000)\n"
     ]
    }
   ],
   "source": [
    "vehicle_bp = bp_lib.find('vehicle.lincoln.mkz_2020')\n",
    "\n",
    "init_spwn_point = random.choice(spawn_points)\n",
    "print(init_spwn_point)\n",
    "print(carla.Location(x=1, y=1, z=1)) \n",
    "\n",
    "vehicle = world.try_spawn_actor(vehicle_bp, init_spwn_point)    \n",
    "\n",
    "spectator = world.get_spectator() \n",
    "transform = carla.Transform(vehicle.get_transform().transform(carla.Location(x=-4,z=2.5)), vehicle.get_transform().rotation) \n",
    "spectator.set_transform(transform) \n",
    "\n",
    "for i in range(100): \n",
    "    vehicle_pb = random.choice(bp_lib)\n",
    "\n",
    "\n"
   ]
  },
  {
   "cell_type": "code",
   "execution_count": 11,
   "metadata": {},
   "outputs": [
    {
     "name": "stdout",
     "output_type": "stream",
     "text": [
      "sensor.other.gnss\n",
      "sensor.camera.dvs\n",
      "sensor.other.obstacle\n",
      "sensor.lidar.ray_cast\n",
      "sensor.camera.semantic_segmentation\n",
      "sensor.other.radar\n",
      "sensor.camera.instance_segmentation\n",
      "sensor.camera.depth\n",
      "sensor.other.lane_invasion\n",
      "sensor.camera.rgb\n",
      "sensor.other.rss\n",
      "sensor.other.collision\n",
      "sensor.lidar.ray_cast_semantic\n",
      "sensor.other.imu\n",
      "sensor.camera.optical_flow\n"
     ]
    }
   ],
   "source": [
    "for bp in bp_lib.filter('sensor'): \n",
    "    print(bp.id)"
   ]
  },
  {
   "cell_type": "code",
   "execution_count": 12,
   "metadata": {},
   "outputs": [
    {
     "name": "stdout",
     "output_type": "stream",
     "text": [
      "sensor.camera.depth\n",
      "sensor.camera.dvs\n",
      "sensor.camera.optical_flow\n",
      "sensor.camera.rgb\n",
      "sensor.camera.instance_segmentation\n",
      "sensor.camera.semantic_segmentation\n"
     ]
    }
   ],
   "source": [
    "for bp in bp_lib.filter('camera'): \n",
    "    print(bp.id)"
   ]
  },
  {
   "cell_type": "code",
   "execution_count": 13,
   "metadata": {},
   "outputs": [
    {
     "name": "stdout",
     "output_type": "stream",
     "text": [
      "vehicle.audi.a2\n",
      "vehicle.audi.tt\n",
      "vehicle.ford.ambulance\n",
      "vehicle.carlamotors.firetruck\n",
      "vehicle.ford.crown\n",
      "vehicle.mini.cooper_s\n",
      "vehicle.lincoln.mkz_2017\n",
      "vehicle.chevrolet.impala\n",
      "vehicle.micro.microlino\n",
      "vehicle.dodge.charger_2020\n",
      "vehicle.jeep.wrangler_rubicon\n",
      "vehicle.volkswagen.t2_2021\n",
      "vehicle.mercedes.sprinter\n",
      "vehicle.volkswagen.t2\n",
      "vehicle.tesla.cybertruck\n",
      "vehicle.kawasaki.ninja\n",
      "vehicle.tesla.model3\n",
      "vehicle.diamondback.century\n",
      "vehicle.vespa.zx125\n",
      "vehicle.dodge.charger_police_2020\n",
      "vehicle.mercedes.coupe_2020\n",
      "vehicle.nissan.patrol_2021\n",
      "vehicle.audi.etron\n",
      "vehicle.mini.cooper_s_2021\n",
      "vehicle.gazelle.omafiets\n",
      "vehicle.yamaha.yzf\n",
      "vehicle.bh.crossbike\n",
      "vehicle.harley-davidson.low_rider\n",
      "vehicle.toyota.prius\n",
      "vehicle.seat.leon\n",
      "vehicle.nissan.patrol\n",
      "vehicle.nissan.micra\n",
      "vehicle.mercedes.coupe\n",
      "vehicle.dodge.charger_police\n",
      "vehicle.bmw.grandtourer\n",
      "vehicle.ford.mustang\n",
      "vehicle.citroen.c3\n",
      "vehicle.lincoln.mkz_2020\n",
      "vehicle.carlamotors.carlacola\n"
     ]
    }
   ],
   "source": [
    "for bp in bp_lib.filter('*vehicle*'): \n",
    "    print(bp.id)"
   ]
  },
  {
   "cell_type": "code",
   "execution_count": 14,
   "metadata": {},
   "outputs": [],
   "source": [
    "camera_init_trans = carla.Transform(carla.Location(z=2)) \n",
    "\n",
    "camera_bp = bp_lib.find('sensor.camera.rgb') \n",
    "camera = world.spawn_actor(camera_bp, camera_init_trans, attach_to=vehicle) \n",
    "\n",
    "sem_camera_bp = bp_lib.find('sensor.camera.semantic_segmentation') \n",
    "sem_camera = world.spawn_actor(sem_camera_bp, camera_init_trans, attach_to=vehicle) \n",
    "\n",
    "inst_camera_bp = bp_lib.find('sensor.camera.instance_segmentation') \n",
    "inst_camera = world.spawn_actor(inst_camera_bp, camera_init_trans, attach_to=vehicle) \n",
    "\n",
    "depth_camera_bp = bp_lib.find('sensor.camera.depth') \n",
    "depth_camera = world.spawn_actor(depth_camera_bp, camera_init_trans, attach_to=vehicle) \n",
    "\n",
    "dvs_camera_bp = bp_lib.find('sensor.camera.dvs') \n",
    "dvs_camera = world.spawn_actor(dvs_camera_bp, camera_init_trans, attach_to=vehicle) \n",
    "\n",
    "opt_camera_bp = bp_lib.find('sensor.camera.optical_flow') \n",
    "opt_camera = world.spawn_actor(opt_camera_bp, camera_init_trans, attach_to=vehicle) \n"
   ]
  },
  {
   "cell_type": "code",
   "execution_count": 15,
   "metadata": {},
   "outputs": [],
   "source": [
    "def rgb_callback(image, data_dict): \n",
    "    data_dict['rgb_image'] = np.reshape(np.copy(image.raw_data), (image.height, image.width, 4)) \n",
    "\n",
    "def sem_callback(image, data_dict): \n",
    "    image.convert(carla.ColorConverter.CityScapesPalette)\n",
    "    data_dict['sem_image'] = np.reshape(np.copy(image.raw_data), (image.height, image.width, 4)) \n",
    "\n",
    "def inst_callback(image, data_dict): \n",
    "    data_dict['inst_image'] = np.reshape(np.copy(image.raw_data), (image.height, image.width, 4)) \n",
    "\n",
    "def depth_callback(image, data_dict): \n",
    "    image.convert(carla.ColorConverter.LogarithmicDepth) \n",
    "    data_dict['depth_image'] = np.reshape(np.copy(image.raw_data), (image.height, image.width, 4)) \n",
    "\n",
    "def opt_callback(data, data_dict): \n",
    "    image = data.get_color_coded_flow()\n",
    "    img = np.reshape(np.copy(image.raw_data), (image.height, image.width, 4)) \n",
    "    img[:, :, 3] = 255 \n",
    "    data_dict['opt_image'] = img \n",
    "\n",
    "def dvs_callback(data, data_dict):\n",
    "    dvs_events = np.frombuffer(data.raw_data, dtype=np.dtype([(\"x\", np.uint16), (\"y\", np.uint16), (\"t\", np.int64), (\"pol\", np.bool)])) \n",
    "    data_dict['dvs_image'] = np.zeros((data.height, data.width, 4), dtype=np.uint8) \n",
    "    dvs_img = np.zeros((data.height, data.width, 3), dtype=np.uint8) \n",
    "    dvs_img[dvs_events[:]['y'], dvs_events[:]['x'], dvs_events[:]['pol']*2] = 255 \n",
    "    data_dict['dvs_image'][:,:,0:3] = dvs_img  "
   ]
  },
  {
   "cell_type": "code",
   "execution_count": 17,
   "metadata": {},
   "outputs": [
    {
     "name": "stderr",
     "output_type": "stream",
     "text": [
      "/home/k/self-driving-repo/CARLA_0.9.13_RSS/carla_0913rss_env/lib/python3.7/site-packages/ipykernel_launcher.py:22: DeprecationWarning: `np.bool` is a deprecated alias for the builtin `bool`. To silence this warning, use `bool` by itself. Doing this will not modify any behavior and is safe. If you specifically wanted the numpy scalar type, use `np.bool_` here.\n",
      "Deprecated in NumPy 1.20; for more details and guidance: https://numpy.org/devdocs/release/1.20.0-notes.html#deprecations\n"
     ]
    },
    {
     "ename": "",
     "evalue": "",
     "output_type": "error",
     "traceback": [
      "\u001b[1;31mThe Kernel crashed while executing code in the current cell or a previous cell. \n",
      "\u001b[1;31mPlease review the code in the cell(s) to identify a possible cause of the failure. \n",
      "\u001b[1;31mClick <a href='https://aka.ms/vscodeJupyterKernelCrash'>here</a> for more info. \n",
      "\u001b[1;31mView Jupyter <a href='command:jupyter.viewOutput'>log</a> for further details."
     ]
    }
   ],
   "source": [
    "image_w = camera_bp.get_attribute(\"image_size_x\").as_int() \n",
    "image_h = camera_bp.get_attribute(\"image_size_y\").as_int() \n",
    "\n",
    "sensor_data = {'rgb_image': np.zeros((image_w, image_h, 4)), \n",
    "               'sem_image': np.zeros((image_w, image_h, 4)), \n",
    "               'inst_image': np.zeros((image_w, image_h, 4)), \n",
    "               'depth_image': np.zeros((image_w, image_h, 4)), \n",
    "               'opt_image': np.zeros((image_w, image_h, 4)), \n",
    "               'dvs_image': np.zeros((image_w, image_h, 4))} \n",
    "\n",
    "cv2.namedWindow('RGB Camera', cv2.WINDOW_AUTOSIZE) \n",
    "\n",
    "top_row = np.concatenate((sensor_data['rgb_image'], sensor_data['sem_image'], sensor_data['inst_image']), axis=1) \n",
    "lower_row = np.concatenate((sensor_data['depth_image'], sensor_data['dvs_image'], sensor_data['opt_image']), axis=1) \n",
    "tiled = np.concatenate((top_row, lower_row), axis=0) \n",
    "\n",
    "cv2.imshow('All cameras', tiled) \n",
    "cv2.waitKey(1) \n",
    "\n",
    "camera.listen(lambda image: rgb_callback(image, sensor_data)) \n",
    "sem_camera.listen(lambda image: sem_callback(image, sensor_data))\n",
    "inst_camera.listen(lambda image: inst_callback(image, sensor_data))\n",
    "depth_camera.listen(lambda image: depth_callback(image, sensor_data))\n",
    "opt_camera.listen(lambda image: opt_callback(image, sensor_data))\n",
    "dvs_camera.listen(lambda image: dvs_callback(image, sensor_data)) \n",
    "\n",
    "while True: \n",
    "    top_row = np.concatenate((sensor_data['rgb_image'], sensor_data['sem_image'], sensor_data['inst_image']), axis=1) \n",
    "    lower_row = np.concatenate((sensor_data['depth_image'], sensor_data['opt_image'], sensor_data['dvs_image']), axis=1) \n",
    "    tiled = np.concatenate((top_row, lower_row), axis=0) \n",
    "\n",
    "    cv2.imshow('All cameras', tiled) \n",
    "\n",
    "    if cv2.waitKey(1) == ord('q'): \n",
    "        break\n",
    "\n",
    "camera.stop() \n",
    "sem_camera.stop()\n",
    "inst_camera.stop()\n",
    "depth_camera.stop()\n",
    "opt_camera.stop()\n",
    "dvs_camera.stop()\n",
    "cv2.destroyAllWindows() "
   ]
  },
  {
   "cell_type": "code",
   "execution_count": null,
   "metadata": {},
   "outputs": [],
   "source": []
  }
 ],
 "metadata": {
  "kernelspec": {
   "display_name": "carla_0913rss_env",
   "language": "python",
   "name": "python3"
  },
  "language_info": {
   "codemirror_mode": {
    "name": "ipython",
    "version": 3
   },
   "file_extension": ".py",
   "mimetype": "text/x-python",
   "name": "python",
   "nbconvert_exporter": "python",
   "pygments_lexer": "ipython3",
   "version": "3.8.19"
  }
 },
 "nbformat": 4,
 "nbformat_minor": 2
}
