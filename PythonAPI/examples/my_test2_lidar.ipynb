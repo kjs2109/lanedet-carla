{
 "cells": [
  {
   "cell_type": "code",
   "execution_count": 1,
   "metadata": {},
   "outputs": [
    {
     "name": "stdout",
     "output_type": "stream",
     "text": [
      "Jupyter environment detected. Enabling Open3D WebVisualizer.\n",
      "[Open3D INFO] WebRTC GUI backend enabled.\n",
      "[Open3D INFO] WebRTCWindowSystem: HTTP handshake server disabled.\n"
     ]
    }
   ],
   "source": [
    "import carla \n",
    "import math \n",
    "import time    \n",
    "import random \n",
    "import numpy as np \n",
    "import cv2 \n",
    "import open3d as o3d \n",
    "from matplotlib import cm \n",
    "\n",
    "client = carla.Client('localhost', 2000) \n",
    "client.reload_world() \n",
    "world = client.get_world() \n",
    "\n",
    "bp_lib = world.get_blueprint_library() \n",
    "spawn_points = world.get_map().get_spawn_points() "
   ]
  },
  {
   "cell_type": "code",
   "execution_count": 2,
   "metadata": {},
   "outputs": [],
   "source": [
    "vehicle_bp = bp_lib.find('vehicle.lincoln.mkz_2020') \n",
    "vehicle = world.try_spawn_actor(vehicle_bp, spawn_points[79]) \n",
    "\n",
    "spectator = world.get_spectator() \n",
    "transform = carla.Transform(vehicle.get_transform().transform(carla.Location(x=-4, z=2.5)), vehicle.get_transform().rotation) \n",
    "spectator.set_transform(transform) \n",
    "\n",
    "for i in range(100): \n",
    "    vehicle_bp = random.choice(bp_lib.filter('vehicle')) \n",
    "    npc = world.try_spawn_actor(vehicle_bp, random.choice(spawn_points)) \n",
    "\n",
    "for v in world.get_actors().filter('*vehicle*'): \n",
    "    v.set_autopilot(True)"
   ]
  },
  {
   "cell_type": "code",
   "execution_count": 3,
   "metadata": {},
   "outputs": [],
   "source": [
    "VIRIDIS = np.array(cm.get_cmap('plasma').colors)\n",
    "VID_RANGE = np.linspace(0.0, 1.0, VIRIDIS.shape[0]) \n",
    "\n",
    "COOL_RANGE = np.linspace(0.0, 1.0, VIRIDIS.shape[0]) \n",
    "COOL = np.array(cm.get_cmap('winter')(COOL_RANGE)) \n",
    "COOL = COOL[:, :3] \n",
    "\n",
    "def add_open3d_axis(vis): \n",
    "    \"\"\"Add a small 3D axis on Open3D Visualizer\"\"\" \n",
    "    axis = o3d.geometry.LineSet() \n",
    "    axis.points = o3d.utility.Vector3dVector(np.array([[0, 0, 0], [1, 0, 0], [0, 1, 0], [0, 0, 1]])) \n",
    "    axis.lines = o3d.utility.Vector2iVector(np.array([[0, 1], [0, 2], [0, 3]])) \n",
    "    axis.colors = o3d.utility.Vector3dVector(np.array([[1, 0, 0], [0, 1, 0], [0, 0, 1]])) \n",
    "    vis.add_geometry(axis)"
   ]
  },
  {
   "cell_type": "code",
   "execution_count": 4,
   "metadata": {},
   "outputs": [],
   "source": [
    "def lidar_callback(point_cloud, point_list): \n",
    "    \"\"\"Prepares a point cloud with intensity colors ready to be consumed by Open3D \"\"\" \n",
    "\n",
    "    data = np.copy(np.frombuffer(point_cloud.raw_data, dtype=np.dtype('f4'))) \n",
    "    data = np.reshape(data, (int(data.shape[0] / 4), 4)) \n",
    "\n",
    "    # Isolate the intensity and compute a color for it \n",
    "    intensity = data[:, -1] \n",
    "    intensity_col = 1.0 - np.log(intensity) / np.log(np.exp(-0.004*100)) \n",
    "    int_color = np.c_[np.interp(intensity_col, VID_RANGE, VIRIDIS[:, 0]), \n",
    "                      np.interp(intensity_col, VID_RANGE, VIRIDIS[:, 1]), \n",
    "                      np.interp(intensity_col, VID_RANGE, VIRIDIS[:, 2])]\n",
    "    \n",
    "    points = data[:, :-1]  # extract the XYZ points \n",
    "    points[:, :1] = -points[:, :1]  # reverse the Y axis\n",
    "\n",
    "    point_list.points = o3d.utility.Vector3dVector(points) \n",
    "    point_list.colors = o3d.utility.Vector3dVector(int_color) \n",
    "\n",
    "\n",
    "def radar_callback(data, point_list): \n",
    "    radar_data = np.zeros((len(data), 4)) \n",
    "\n",
    "    for i, detection in enumerate(data): \n",
    "        x = detection.depth * math.cos(detection.altitude) * math.cos(detection.azimuth) \n",
    "        y = detection.depth * math.cos(detection.altitude) * math.sin(detection.azimuth) \n",
    "        z = detection.depth * math.sin(detection.altitude) \n",
    "\n",
    "        radar_data[i, :] = [x, y, z, detection.velocity] \n",
    "\n",
    "    \n",
    "    intensity = np.abs(radar_data[:, -1]) \n",
    "    intensity_col = 1.0 - np.log(intensity) / np.log(np.exp(-0.004*100)) \n",
    "    int_color = np.c_[np.interp(intensity_col, COOL_RANGE, COOL[:, 0]), \n",
    "                      np.interp(intensity_col, COOL_RANGE, COOL[:, 1]), \n",
    "                      np.interp(intensity_col, COOL_RANGE, COOL[:, 2])] \n",
    "    \n",
    "    points = radar_data[:, :-1] \n",
    "    points[:, :1] = -points[:, :1]\n",
    "\n",
    "    point_list.points = o3d.utility.Vector3dVector(points)\n",
    "    point_list.colors = o3d.utility.Vector3dVector(int_color)\n",
    "\n",
    "def camera_callback(image, data_dict): \n",
    "    data_dict['image'] = np.reshape(np.copy(image.raw_data), (image.height, image.width, 4)) "
   ]
  },
  {
   "cell_type": "code",
   "execution_count": 5,
   "metadata": {},
   "outputs": [],
   "source": [
    "lidar_bp = bp_lib.find('sensor.lidar.ray_cast') \n",
    "lidar_bp.set_attribute('range', '100.0') \n",
    "lidar_bp.set_attribute('noise_stddev', '0.1') \n",
    "lidar_bp.set_attribute('upper_fov', '15.0') \n",
    "lidar_bp.set_attribute('lower_fov', '-25.0') \n",
    "lidar_bp.set_attribute('channels', '64.0') \n",
    "lidar_bp.set_attribute('rotation_frequency', '20.0') \n",
    "lidar_bp.set_attribute('points_per_second', '500000') \n",
    "\n",
    "lidar_init_trans = carla.Transform(carla.Location(z=2)) \n",
    "lidar = world.spawn_actor(lidar_bp, lidar_init_trans, attach_to=vehicle) \n",
    "\n",
    "radar_bp = bp_lib.find('sensor.other.radar') \n",
    "radar_bp.set_attribute('horizontal_fov', '30.0') \n",
    "radar_bp.set_attribute('vertical_fov', '30.0') \n",
    "radar_bp.set_attribute('points_per_second', '10000') \n",
    "radar_init_trans = carla.Transform(carla.Location(z=2)) \n",
    "radar = world.spawn_actor(radar_bp, radar_init_trans, attach_to=vehicle) \n",
    "\n",
    "camera_bp = bp_lib.find('sensor.camera.rgb') \n",
    "camera_init_trans = carla.Transform(carla.Location(z=2.5, x=-3), carla.Rotation())  # Rotation(yaw=180)\n",
    "camera = world.spawn_actor(camera_bp, camera_init_trans, attach_to=vehicle) \n",
    "\n",
    "point_list = o3d.geometry.PointCloud()\n",
    "radar_list = o3d.geometry.PointCloud() \n",
    "\n",
    "image_w = camera_bp.get_attribute('image_size_x').as_int() \n",
    "image_h = camera_bp.get_attribute('image_size_y').as_int() \n",
    "\n",
    "camera_data = {'imag': np.zeros((image_h, image_w, 4))} \n",
    "\n",
    "lidar.listen(lambda data: lidar_callback(data, point_list)) \n",
    "radar.listen(lambda data: radar_callback(data, radar_list)) \n",
    "camera.listen(lambda data: camera_callback(data, camera_data))"
   ]
  },
  {
   "cell_type": "code",
   "execution_count": 6,
   "metadata": {},
   "outputs": [
    {
     "name": "stderr",
     "output_type": "stream",
     "text": [
      "/home/k/self-driving-repo/CARLA_0.9.13_RSS/carla_0913rss_env/lib/python3.7/site-packages/ipykernel_launcher.py:33: RuntimeWarning: divide by zero encountered in log\n"
     ]
    },
    {
     "ename": "AttributeError",
     "evalue": "'World' object has no attribute 'get_spectator_actors'",
     "output_type": "error",
     "traceback": [
      "\u001b[0;31m---------------------------------------------------------------------------\u001b[0m",
      "\u001b[0;31mAttributeError\u001b[0m                            Traceback (most recent call last)",
      "\u001b[0;32m/tmp/ipykernel_24583/4289360704.py\u001b[0m in \u001b[0;36m<module>\u001b[0;34m\u001b[0m\n\u001b[1;32m     41\u001b[0m \u001b[0mvis\u001b[0m\u001b[0;34m.\u001b[0m\u001b[0mdestroy_window\u001b[0m\u001b[0;34m(\u001b[0m\u001b[0;34m)\u001b[0m\u001b[0;34m\u001b[0m\u001b[0;34m\u001b[0m\u001b[0m\n\u001b[1;32m     42\u001b[0m \u001b[0;34m\u001b[0m\u001b[0m\n\u001b[0;32m---> 43\u001b[0;31m \u001b[0;32mfor\u001b[0m \u001b[0mactor\u001b[0m \u001b[0;32min\u001b[0m \u001b[0mworld\u001b[0m\u001b[0;34m.\u001b[0m\u001b[0mget_spectator_actors\u001b[0m\u001b[0;34m(\u001b[0m\u001b[0;34m)\u001b[0m\u001b[0;34m.\u001b[0m\u001b[0mfilter\u001b[0m\u001b[0;34m(\u001b[0m\u001b[0;34m'*vechicle*'\u001b[0m\u001b[0;34m)\u001b[0m\u001b[0;34m:\u001b[0m\u001b[0;34m\u001b[0m\u001b[0;34m\u001b[0m\u001b[0m\n\u001b[0m\u001b[1;32m     44\u001b[0m     \u001b[0mactor\u001b[0m\u001b[0;34m.\u001b[0m\u001b[0mdestroy\u001b[0m\u001b[0;34m(\u001b[0m\u001b[0;34m)\u001b[0m\u001b[0;34m\u001b[0m\u001b[0;34m\u001b[0m\u001b[0m\n\u001b[1;32m     45\u001b[0m \u001b[0;34m\u001b[0m\u001b[0m\n",
      "\u001b[0;31mAttributeError\u001b[0m: 'World' object has no attribute 'get_spectator_actors'"
     ]
    },
    {
     "ename": "",
     "evalue": "",
     "output_type": "error",
     "traceback": [
      "\u001b[1;31mThe Kernel crashed while executing code in the current cell or a previous cell. \n",
      "\u001b[1;31mPlease review the code in the cell(s) to identify a possible cause of the failure. \n",
      "\u001b[1;31mClick <a href='https://aka.ms/vscodeJupyterKernelCrash'>here</a> for more info. \n",
      "\u001b[1;31mView Jupyter <a href='command:jupyter.viewOutput'>log</a> for further details."
     ]
    }
   ],
   "source": [
    "cv2.namedWindow('Camera', cv2.WINDOW_AUTOSIZE) \n",
    "cv2.imshow('RGB Camera', camera_data['image']) \n",
    "cv2.waitKey(1) \n",
    "\n",
    "vis = o3d.visualization.Visualizer() \n",
    "vis.create_window(\n",
    "    window_name='Carla Lidar', \n",
    "    width=960, height=540, left=480, top=270) \n",
    "vis.get_render_option().background_color = [0.05, 0.05, 0.05] \n",
    "vis.get_render_option().point_size = 1 \n",
    "vis.get_render_option().show_coordinate_frame = True \n",
    "add_open3d_axis(vis) \n",
    "\n",
    "frame = 0 \n",
    "\n",
    "while True: \n",
    "    if frame == 2: \n",
    "        vis.add_geometry(point_list) \n",
    "        vis.add_geometry(radar_list) \n",
    "    vis.update_geometry(point_list) \n",
    "    vis.update_geometry(radar_list) \n",
    "\n",
    "    vis.poll_events() \n",
    "    vis.update_renderer() \n",
    "\n",
    "    # This is can fix Open3d jittering issues \n",
    "    time.sleep(0.005) \n",
    "    frame += 1 \n",
    "\n",
    "    cv2.imshow('RGB Camera', camera_data['image']) \n",
    "    if cv2.waitKey(1) & 0xFF == ord('q'): \n",
    "        break \n",
    "\n",
    "cv2.destroyAllWindows() \n",
    "lidar.stop()\n",
    "lidar.destroy()\n",
    "radar.stop()\n",
    "radar.destroy() \n",
    "camera.stop()\n",
    "camera.destroy()\n",
    "vis.destroy_window()  \n",
    "\n",
    "for actor in world.get_spectator_actors().filter('*vechicle*'): \n",
    "    actor.destroy() \n",
    "\n",
    "for actor in world.get_actors().filter('*sensor*'): \n",
    "    actor.destroy()"
   ]
  },
  {
   "cell_type": "code",
   "execution_count": null,
   "metadata": {},
   "outputs": [],
   "source": []
  }
 ],
 "metadata": {
  "kernelspec": {
   "display_name": "carla_0913rss_env",
   "language": "python",
   "name": "python3"
  },
  "language_info": {
   "codemirror_mode": {
    "name": "ipython",
    "version": 3
   },
   "file_extension": ".py",
   "mimetype": "text/x-python",
   "name": "python",
   "nbconvert_exporter": "python",
   "pygments_lexer": "ipython3",
   "version": "3.7.17"
  }
 },
 "nbformat": 4,
 "nbformat_minor": 2
}
